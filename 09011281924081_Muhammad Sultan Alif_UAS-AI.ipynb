{
 "cells": [
  {
   "cell_type": "markdown",
   "id": "18151301",
   "metadata": {},
   "source": [
    "# Project : Virtual Assistant"
   ]
  },
  {
   "cell_type": "markdown",
   "id": "fabe7622",
   "metadata": {},
   "source": [
    "# UAS Artificial Intelligence"
   ]
  },
  {
   "cell_type": "markdown",
   "id": "d0ad0e57",
   "metadata": {},
   "source": [
    "Nama : Muhammad Sultan Alif"
   ]
  },
  {
   "cell_type": "markdown",
   "id": "0e3b00ec",
   "metadata": {},
   "source": [
    "NIM : 09011281924081"
   ]
  },
  {
   "cell_type": "markdown",
   "id": "c6d07e00",
   "metadata": {},
   "source": [
    "Kelas : SK5B Indralaya"
   ]
  },
  {
   "cell_type": "code",
   "execution_count": 14,
   "id": "c38d6541",
   "metadata": {},
   "outputs": [
    {
     "name": "stdout",
     "output_type": "stream",
     "text": [
      "Collecting wikipedia\n",
      "  Using cached wikipedia-1.4.0-py3-none-any.whl\n",
      "Requirement already satisfied: requests<3.0.0,>=2.0.0 in c:\\users\\sultan\\anaconda3\\lib\\site-packages (from wikipedia) (2.25.1)\n",
      "Requirement already satisfied: beautifulsoup4 in c:\\users\\sultan\\anaconda3\\lib\\site-packages (from wikipedia) (4.9.3)\n",
      "Requirement already satisfied: urllib3<1.27,>=1.21.1 in c:\\users\\sultan\\anaconda3\\lib\\site-packages (from requests<3.0.0,>=2.0.0->wikipedia) (1.26.4)\n",
      "Requirement already satisfied: certifi>=2017.4.17 in c:\\users\\sultan\\anaconda3\\lib\\site-packages (from requests<3.0.0,>=2.0.0->wikipedia) (2020.12.5)\n",
      "Requirement already satisfied: idna<3,>=2.5 in c:\\users\\sultan\\anaconda3\\lib\\site-packages (from requests<3.0.0,>=2.0.0->wikipedia) (2.10)\n",
      "Requirement already satisfied: chardet<5,>=3.0.2 in c:\\users\\sultan\\anaconda3\\lib\\site-packages (from requests<3.0.0,>=2.0.0->wikipedia) (4.0.0)\n",
      "Requirement already satisfied: soupsieve>1.2 in c:\\users\\sultan\\anaconda3\\lib\\site-packages (from beautifulsoup4->wikipedia) (2.2.1)\n",
      "Installing collected packages: wikipedia\n",
      "Successfully installed wikipedia-1.4.0\n",
      "Note: you may need to restart the kernel to use updated packages.\n"
     ]
    }
   ],
   "source": [
    "pip install wikipedia"
   ]
  },
  {
   "cell_type": "code",
   "execution_count": 9,
   "id": "0022082a",
   "metadata": {},
   "outputs": [
    {
     "name": "stdout",
     "output_type": "stream",
     "text": [
      "Requirement already satisfied: pyttsx3 in c:\\users\\sultan\\anaconda3\\lib\\site-packages (2.90)\n",
      "Requirement already satisfied: pypiwin32 in c:\\users\\sultan\\anaconda3\\lib\\site-packages (from pyttsx3) (223)\n",
      "Requirement already satisfied: comtypes in c:\\users\\sultan\\anaconda3\\lib\\site-packages (from pyttsx3) (1.1.9)\n",
      "Requirement already satisfied: pywin32 in c:\\users\\sultan\\anaconda3\\lib\\site-packages (from pyttsx3) (227)\n",
      "Note: you may need to restart the kernel to use updated packages.\n"
     ]
    }
   ],
   "source": [
    "pip install pyttsx3"
   ]
  },
  {
   "cell_type": "code",
   "execution_count": 10,
   "id": "e6a6e646",
   "metadata": {},
   "outputs": [
    {
     "name": "stdout",
     "output_type": "stream",
     "text": [
      "Collecting SpeechRecognition\n",
      "  Using cached SpeechRecognition-3.8.1-py2.py3-none-any.whl (32.8 MB)\n",
      "Installing collected packages: SpeechRecognition\n",
      "Successfully installed SpeechRecognition-3.8.1\n",
      "Note: you may need to restart the kernel to use updated packages.\n"
     ]
    }
   ],
   "source": [
    "pip install SpeechRecognition"
   ]
  },
  {
   "cell_type": "code",
   "execution_count": 11,
   "id": "739fe107",
   "metadata": {},
   "outputs": [
    {
     "name": "stdout",
     "output_type": "stream",
     "text": [
      "Collecting gtts\n",
      "  Using cached gTTS-2.2.3-py3-none-any.whl (25 kB)\n",
      "Requirement already satisfied: requests in c:\\users\\sultan\\anaconda3\\lib\\site-packages (from gtts) (2.25.1)\n",
      "Requirement already satisfied: click in c:\\users\\sultan\\anaconda3\\lib\\site-packages (from gtts) (7.1.2)\n",
      "Requirement already satisfied: six in c:\\users\\sultan\\anaconda3\\lib\\site-packages (from gtts) (1.15.0)\n",
      "Requirement already satisfied: idna<3,>=2.5 in c:\\users\\sultan\\anaconda3\\lib\\site-packages (from requests->gtts) (2.10)\n",
      "Requirement already satisfied: urllib3<1.27,>=1.21.1 in c:\\users\\sultan\\anaconda3\\lib\\site-packages (from requests->gtts) (1.26.4)\n",
      "Requirement already satisfied: certifi>=2017.4.17 in c:\\users\\sultan\\anaconda3\\lib\\site-packages (from requests->gtts) (2020.12.5)\n",
      "Requirement already satisfied: chardet<5,>=3.0.2 in c:\\users\\sultan\\anaconda3\\lib\\site-packages (from requests->gtts) (4.0.0)\n",
      "Installing collected packages: gtts\n",
      "Successfully installed gtts-2.2.3\n",
      "Note: you may need to restart the kernel to use updated packages.\n"
     ]
    }
   ],
   "source": [
    "pip install gtts"
   ]
  },
  {
   "cell_type": "code",
   "execution_count": 12,
   "id": "82888915",
   "metadata": {},
   "outputs": [
    {
     "name": "stdout",
     "output_type": "stream",
     "text": [
      "Collecting playsound2\n",
      "  Using cached playsound2-0.1-py3-none-any.whl (5.1 kB)\n",
      "Installing collected packages: playsound2\n",
      "Successfully installed playsound2-0.1\n",
      "Note: you may need to restart the kernel to use updated packages.\n"
     ]
    }
   ],
   "source": [
    "pip install playsound2"
   ]
  },
  {
   "cell_type": "code",
   "execution_count": 17,
   "id": "9647f158",
   "metadata": {},
   "outputs": [
    {
     "name": "stdout",
     "output_type": "stream",
     "text": [
      "Requirement already satisfied: winshell in c:\\users\\sultan\\anaconda3\\lib\\site-packages (0.6)\n",
      "Note: you may need to restart the kernel to use updated packages.\n"
     ]
    }
   ],
   "source": [
    "pip install winshell"
   ]
  },
  {
   "cell_type": "code",
   "execution_count": null,
   "id": "7a0345c0",
   "metadata": {},
   "outputs": [],
   "source": [
    "import warnings\n",
    "import pyttsx3\n",
    "import speech_recognition as sr\n",
    "from gtts import gTTS\n",
    "import playsound2\n",
    "import os\n",
    "import datetime\n",
    "import calendar\n",
    "import random\n",
    "import wikipedia\n",
    "import webbrowser\n",
    "import ctypes\n",
    "import winshell\n",
    "\n",
    "warnings.filterwarnings(\"ignore\")\n",
    "\n",
    "engine = pyttsx3.init()\n",
    "voices = engine.getProperty('voices')       #getting details of current voice\n",
    "engine.setProperty('voice', voices[1].id)   #changing index, changes voices.\n",
    "\n",
    "def talk(audio):\n",
    "    engine.say(audio)\n",
    "    engine.runAndWait()\n",
    "\n",
    "def rec_audio():\n",
    "    recog = sr.Recognizer()\n",
    "\n",
    "    with sr.Microphone() as source:\n",
    "        print(\"Listening...\")\n",
    "        audio = recog.listen(source)\n",
    "\n",
    "    data = \" \"\n",
    "\n",
    "    try:\n",
    "        data = recog.recognize_google(audio)\n",
    "        print(\"You said : \" + data)\n",
    "\n",
    "    except sr.UnknownValueError:\n",
    "        print(\"Assistant could not understand the audio\")\n",
    "\n",
    "    except sr.RequestError as ex:\n",
    "        print(\"Request Error from Google Speech Recognition\" + ex)\n",
    "\n",
    "    return data\n",
    "\n",
    "def response(text):\n",
    "    print(text)\n",
    "\n",
    "    tts = gTTS(text=text, lang=\"en\")\n",
    "\n",
    "    audio = \"suara.mp3\"\n",
    "    tts.save(audio)\n",
    "\n",
    "    playsound2.playsound(audio)\n",
    "\n",
    "    os.remove(audio)\n",
    "\n",
    "def call(text):\n",
    "    action_call = \"assistant\"\n",
    "\n",
    "    text = text.lower()\n",
    "\n",
    "    if action_call in text:\n",
    "        return True\n",
    "\n",
    "    return False\n",
    "\n",
    "def today_date():\n",
    "    now = datetime.datetime.now()\n",
    "    date_now = datetime.datetime.today()\n",
    "    week_now = calendar.day_name[date_now.weekday()]\n",
    "    month_now = now.month\n",
    "    day_now = now.day\n",
    "\n",
    "    month = [\"January\",\"February\",\"March\",\"April\",\"May\",\"June\",\"July\",\"August\",\"September\",\"October\",\"November\",\"December\"]\n",
    "\n",
    "    ordinals = [\"1st\",\"2nd\",\"3rd\",\"4th\",\"5th\",\"6th\",\"7th\",\"8th\",\"9th\",\"10th\",\"11th\",\"12th\",\"13th\",\"14th\",\"15th\",\"16th\",\"17th\",\"18th\",\"19th\",\"20th\",\"21st\",\"22nd\",\"23rd\",\"24th\",\"25th\",\"26th\",\"27th\",\"28th\",\"29th\",\"30th\",\"31st\"]\n",
    "\n",
    "    return f'Today is {week_now}, {month[month_now -1]} the {ordinals[day_now -1]}'\n",
    "\n",
    "def say_hello(text):\n",
    "    greet = [\"hi\",\"hey\",\"hola\",\"greetings\",\"wassup\",\"hello\",\"howdy\",\"what's good\",\"hey there\"]\n",
    "\n",
    "    response = [\"hi\",\"hey\",\"hola\",\"greetings\",\"wassup\",\"hello\",\"howdy\",\"what's good\",\"hey there\"]\n",
    "\n",
    "    for word in text.split():\n",
    "        if word.lower() in greet:\n",
    "            return random.choice(response) + \".\"\n",
    "\n",
    "    return \"\"\n",
    "\n",
    "def wiki_person(text):\n",
    "    list_wiki = text.split()\n",
    "    for i in range(0, len(list_wiki)):\n",
    "        if i + 3 <= len(list_wiki) - 1 and list_wiki[i].lower() == \"who\" and list_wiki[i + 1].lower() == \"is\":\n",
    "            return list_wiki[i+2] + \" \" + list_wiki[i+3]\n",
    "\n",
    "while True:\n",
    "\n",
    "    try:\n",
    "\n",
    "        text = rec_audio()\n",
    "        speak = \" \"\n",
    "\n",
    "        if call(text):\n",
    "            speak = speak + say_hello(text)\n",
    "\n",
    "            if \"date\" in text or \"day\" in text or \"month\" in text:\n",
    "                get_today = today_date()\n",
    "                speak = speak + \" \" + get_today\n",
    "\n",
    "            elif \"time\" in text:\n",
    "                now = datetime.datetime.now()\n",
    "                meridiem = \"\"\n",
    "                if now.hour >= 12:\n",
    "                    meridiem = \"p.m\"\n",
    "                    hour = now.hour - 12\n",
    "                else:\n",
    "                    meridiem = \"a.m\"\n",
    "                    hour = now.hour\n",
    "\n",
    "                if now.minute < 10:\n",
    "                    minute = \"0\" + str(now.minute)\n",
    "                else:\n",
    "                    minute = str(now.minute)\n",
    "                speak = speak + \" \" + \"It is \" + str(hour) + \":\" + minute + \" \" + meridiem + \" .\"\n",
    "\n",
    "            elif \"wikipedia\" in text or \"Wikipedia\" in text:\n",
    "                if \"who is\" in text:\n",
    "                    person = wiki_person(text)\n",
    "                    wiki = wikipedia.summary(person, sentences=2)\n",
    "                    speak = speak + \" \" + wiki\n",
    "\n",
    "            elif \"who are you\" in text or \"define yourself\" in text:\n",
    "                speak = speak + \"\"\"Hello, I am an Assistant. Your Assistant. I am here to make your like easier. \n",
    "                You can command me to perform various tasks such as solving mathematical questions \n",
    "                or open applications\"\"\"\n",
    "\n",
    "            elif \"your name\" in text:\n",
    "                speak = speak + \"my name is assistant\"\n",
    "\n",
    "            elif \"who am I\" in text:\n",
    "                speak = speak + \"you must probably be a human\"\n",
    "\n",
    "            elif \"why do you exist\" in text or \"why did you come\" in text:\n",
    "                speak = speak + \"It is a secret\"\n",
    "\n",
    "            elif \"how are you\" in text:\n",
    "                speak = speak + \"I am fine,thank you\"\n",
    "                speak = speak + \"\\nHow are you?\"\n",
    "\n",
    "            elif \"fine\" in text or \"good\" in text:\n",
    "                speak = speak + \"It's good to know that you are fine\"\n",
    "\n",
    "            elif \"open\" in text.lower():\n",
    "                if \"chrome\" in text.lower():\n",
    "                    speak = speak + \"Opening Google Chrome\"\n",
    "                    os.startfile(\n",
    "                        r\"C:\\Program Files\\Google\\Chrome\\Application\\chrome.exe\"\n",
    "                    )\n",
    "\n",
    "                elif \"microsoft word\" in text.lower():\n",
    "                    speak = speak + \"Opening Microsoft Word\"\n",
    "                    os.startfile(\n",
    "                        r\"C:\\Program Files\\Microsoft Office\\root\\Office16\\WINWORD.EXE\"\n",
    "                    )\n",
    "\n",
    "                elif \"premiere pro\" in text.lower():\n",
    "                    speak = speak + \"Opening Premiere Pro\"\n",
    "                    os.startfile(\n",
    "                        r\"C:\\Program Files\\Adobe\\Adobe Premiere Pro 2020\\Adobe Premiere Pro.exe\"\n",
    "                    )\n",
    "\n",
    "                else:\n",
    "                    speak = speak + \"Application not available\"\n",
    "\n",
    "            elif \"youtube\" in text.lower():\n",
    "                ind = text.lower().split().index(\"youtube\")\n",
    "                search = text.split()[ind + 1:]\n",
    "                webbrowser.open(\n",
    "                    \"https://www.youtube.com/results?search_query=\" + \"+\".join(search)\n",
    "                )\n",
    "                speak = speak + \"Opening \" + str(search) + \" on youtube\"\n",
    "\n",
    "            elif \"search\" in text.lower():\n",
    "                ind = text.lower().split().index(\"search\")\n",
    "                search = text.split()[ind + 1:]\n",
    "                webbrowser.open(\n",
    "                    \"https://www.google.com/search?q=\" + \"+\".join(search)\n",
    "                )\n",
    "                speak = speak + \"Searching \" + str(search) + \" on google\"\n",
    "\n",
    "            elif \"google\" in text.lower():\n",
    "                ind = text.lower().split().index(\"google\")\n",
    "                search = text.split()[ind + 1:]\n",
    "                webbrowser.open(\n",
    "                    \"https://www.google.com/search?q=\" + \"+\".join(search)\n",
    "                )\n",
    "                speak = speak + \"Searching \" + str(search) + \" on google\"\n",
    "\n",
    "            elif \"change background\" in text or \"change wallpaper\" in text:\n",
    "                img = r'C:\\Users\\Sultan\\Pictures\\wallpaper_ai'\n",
    "                list_img = os.listdir(img)\n",
    "                imgChoice = random.choice(list_img)\n",
    "                randomImg = os.path.join(img, imgChoice)\n",
    "                ctypes.windll.user32.SystemParametersInfoW(20, 0, randomImg, 0)\n",
    "                speak = speak + \"Background changed successfully\"\n",
    "\n",
    "            elif \"empty recycle bin\" in text:\n",
    "                winshell.recycle_bin().empty(\n",
    "                    confirm=True, show_progress=False, sound=True\n",
    "                )\n",
    "                speak=speak + \"recycle bin emptied\"\n",
    "\n",
    "            response(speak)\n",
    "\n",
    "    except:\n",
    "        talk(\"I don't know that\")"
   ]
  }
 ],
 "metadata": {
  "kernelspec": {
   "display_name": "Python 3",
   "language": "python",
   "name": "python3"
  },
  "language_info": {
   "codemirror_mode": {
    "name": "ipython",
    "version": 3
   },
   "file_extension": ".py",
   "mimetype": "text/x-python",
   "name": "python",
   "nbconvert_exporter": "python",
   "pygments_lexer": "ipython3",
   "version": "3.8.8"
  }
 },
 "nbformat": 4,
 "nbformat_minor": 5
}
